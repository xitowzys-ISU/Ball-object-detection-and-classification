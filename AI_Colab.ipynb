{
  "cells": [
    {
      "cell_type": "markdown",
      "metadata": {
        "id": "P86PpYTOriZU"
      },
      "source": [
        "# 1. Подготовка"
      ]
    },
    {
      "cell_type": "markdown",
      "metadata": {
        "id": "mcG4eKPZr9vy"
      },
      "source": [
        "## Подключение к Google Drive"
      ]
    },
    {
      "cell_type": "code",
      "execution_count": null,
      "metadata": {
        "id": "FSFfucAZWfaH"
      },
      "outputs": [],
      "source": [
        "from google.colab import drive\n",
        "drive.mount('/content/drive')"
      ]
    },
    {
      "cell_type": "markdown",
      "metadata": {
        "id": "AEqMDc3zrmba"
      },
      "source": [
        "## Библиотеки"
      ]
    },
    {
      "cell_type": "code",
      "execution_count": null,
      "metadata": {
        "id": "ipjdvUSUGDZ6"
      },
      "outputs": [],
      "source": [
        "import cv2\n",
        "import glob\n",
        "import numpy as np\n",
        "import pandas as pd\n",
        "import matplotlib.pyplot as plt\n",
        "\n",
        "from keras.callbacks import EarlyStopping\n",
        "\n",
        "import tensorflow as tf\n",
        "from tensorflow.keras import layers\n",
        "from tensorflow.keras.utils import plot_model\n",
        "from tensorflow.keras.models import  Model\n",
        "from tensorflow.keras.layers import Dense, Conv2D, MaxPool2D, Flatten, Dropout, Input\n",
        "\n",
        "from sklearn.model_selection import train_test_split"
      ]
    },
    {
      "cell_type": "markdown",
      "metadata": {
        "id": "PLbRW50irz9y"
      },
      "source": [
        "## Датасет"
      ]
    },
    {
      "cell_type": "code",
      "execution_count": null,
      "metadata": {
        "id": "Fy6r4eYre8qV"
      },
      "outputs": [],
      "source": [
        "!wget https://gitlab.com/ISU-group/computer-vision/download_dataset/-/blob/main/dataset_urls.txt\n",
        "!git clone https://gitlab.com/ISU-group/computer-vision/download_dataset.git\n",
        "!python3 download_dataset/main.py"
      ]
    },
    {
      "cell_type": "markdown",
      "metadata": {
        "id": "DjWzRi4LsUEw"
      },
      "source": [
        "## Сохранение датасета в Google Drive\n",
        "> Для быстрого использование датасета в будущем"
      ]
    },
    {
      "cell_type": "code",
      "execution_count": null,
      "metadata": {
        "id": "kacA2lpTsmZJ"
      },
      "outputs": [],
      "source": [
        "!cp -r ./download_dataset/dataset/ ./drive/MyDrive/dataset/"
      ]
    },
    {
      "cell_type": "markdown",
      "metadata": {
        "id": "jpZxEmTjssmA"
      },
      "source": [
        "# 2. Стороние готовые функции для ИИ"
      ]
    },
    {
      "cell_type": "markdown",
      "metadata": {
        "id": "n3C4f7zv1HWf"
      },
      "source": [
        "## Resizing images and bounding boxes\n",
        "[Источник](https://jovian.ai/19521242/road-signs-bounding-box-prediction)"
      ]
    },
    {
      "cell_type": "code",
      "execution_count": null,
      "metadata": {
        "id": "-SYze38JGDpm"
      },
      "outputs": [],
      "source": [
        "def create_mask(bb, x):\n",
        "    \"\"\"Creates a mask for the bounding box of same shape as image\"\"\"\n",
        "    rows,cols,*_ = x.shape\n",
        "    bb = list(map(int, bb))\n",
        "    Y = np.zeros((rows, cols))\n",
        "    Y[bb[0]:bb[1], bb[2]:bb[3]] = 1.\n",
        "    return Y\n",
        "\n",
        "def mask_to_bb(Y):\n",
        "    \"\"\"Convert mask Y to a bounding box, assumes 0 as background nonzero object\"\"\"\n",
        "    rows, cols = np.nonzero(Y)\n",
        "    if len(cols)==0: \n",
        "        return np.zeros(4, dtype=np.float32)\n",
        "    top_row = np.min(rows)\n",
        "    left_col = np.min(cols)\n",
        "    bottom_row = np.max(rows) + 1\n",
        "    right_col = np.max(cols) + 1\n",
        "    return [top_row, bottom_row, left_col, right_col]"
      ]
    },
    {
      "cell_type": "markdown",
      "metadata": {
        "id": "jkP4XHGa1PtS"
      },
      "source": [
        "## IOU (TensorFlow)"
      ]
    },
    {
      "cell_type": "code",
      "execution_count": null,
      "metadata": {
        "id": "WLIqlTfjq_lN"
      },
      "outputs": [],
      "source": [
        "def iou(bbox1, bbox2):\n",
        "    y1, y2, x1, x2 = bbox1[:, 0], bbox1[:, 1], bbox1[:, 2], bbox1[:, 3]\n",
        "    y3, y4, x3, x4 = bbox2[:, 0], bbox2[:, 1], bbox2[:, 2], bbox2[:, 3]\n",
        "    inter_w = tf.reduce_min(tf.stack([x2, x4]), 0) - tf.reduce_max(tf.stack([x1, x3]), 0)\n",
        "    inter_h = tf.reduce_min(tf.stack([y2, y4]), 0) - tf.reduce_max(tf.stack([y1, y3]), 0)\n",
        "    pos = tf.logical_or(inter_w <= 0, inter_h <= 0)\n",
        "    inter_area = inter_w * inter_h\n",
        "    union_area = (y2-y1) * (x2-x1) + (y4-y3) * (x4-x3) - inter_area\n",
        "    result = tf.where(pos, 0.0, inter_area / union_area)\n",
        "    return 1 - result"
      ]
    },
    {
      "cell_type": "markdown",
      "metadata": {
        "id": "GS9vlYvguyZu"
      },
      "source": [
        "# 3. ИИ (Нахождение Bounding Box)"
      ]
    },
    {
      "cell_type": "markdown",
      "metadata": {
        "id": "UTzHPq4EUmf7"
      },
      "source": [
        "## Сборка датасета"
      ]
    },
    {
      "cell_type": "code",
      "execution_count": null,
      "metadata": {
        "id": "RlqXutFHUtdm"
      },
      "outputs": [],
      "source": [
        "width = 150\n",
        "height = 200"
      ]
    },
    {
      "cell_type": "code",
      "execution_count": null,
      "metadata": {
        "id": "JV7u_qtJUuB3"
      },
      "outputs": [],
      "source": [
        "balls = []\n",
        "balls_roi = []\n",
        "\n",
        "df = pd.read_csv(\"/content/drive/MyDrive/dataset/balls/_annotations.csv\")\n",
        "\n",
        "for index, row in df.iterrows():\n",
        "\n",
        "    img = cv2.imread(f'/content/drive/MyDrive/dataset/balls/{row[\"filename\"]}')\n",
        "\n",
        "    if (np.round(row[\"height\"] / row[\"width\"],3) == np.round(4/3,3)):\n",
        "\n",
        "      resized = cv2.resize(img, (width,height), interpolation = cv2.INTER_AREA)\n",
        "\n",
        "      roi = [\n",
        "        row[\"ymin\"] / (row[\"height\"] / height),\n",
        "        row[\"ymax\"] / (row[\"height\"] / height),\n",
        "        row[\"xmin\"] / (row[\"width\"] / width),\n",
        "        row[\"xmax\"] / (row[\"width\"] / width)\n",
        "      ]\n",
        "\n",
        "      balls.append(resized)\n",
        "      balls_roi.append(roi)\n",
        "\n",
        "      src = resized\n",
        "      mask = create_mask(roi,src)\n",
        "\n",
        "      for i in range(-1,2):\n",
        "        img_flip = cv2.flip(src, i)\n",
        "        bb = mask_to_bb(cv2.flip(mask, i))\n",
        "        balls.append(img_flip)\n",
        "        balls_roi.append(bb)\n",
        "\n",
        "\n",
        "print(len(balls))\n"
      ]
    },
    {
      "cell_type": "code",
      "execution_count": null,
      "metadata": {
        "id": "-NrwrnyHVZW_"
      },
      "outputs": [],
      "source": [
        "X = np.array(balls)\n",
        "y = np.array(balls_roi)\n",
        "yl = np.ones(len(balls_roi))"
      ]
    },
    {
      "cell_type": "code",
      "execution_count": null,
      "metadata": {
        "id": "Gs8RG2_cVbMV"
      },
      "outputs": [],
      "source": [
        "X_train, X_test, y_train, y_test, yl_train, yl_test = train_test_split(X, y, yl, test_size=0.2, random_state=42)"
      ]
    },
    {
      "cell_type": "code",
      "execution_count": null,
      "metadata": {
        "id": "WYlvqNt_Ve3D"
      },
      "outputs": [],
      "source": [
        "y_test = np.concatenate((\n",
        "    y_test[:,0:2] / height, \n",
        "    y_test[:,2:] / width\n",
        "), 1)\n",
        "\n",
        "y_train = np.concatenate((\n",
        "    y_train[:,0:2] / height, \n",
        "    y_train[:,2:] / width\n",
        "), 1)"
      ]
    },
    {
      "cell_type": "markdown",
      "metadata": {
        "id": "bj72iZyn2hK6"
      },
      "source": [
        "## Модель"
      ]
    },
    {
      "cell_type": "code",
      "execution_count": null,
      "metadata": {
        "id": "Vjm9m_XT7M0N"
      },
      "outputs": [],
      "source": [
        "inp = Input(shape=(height, width, 3),  name='base_0')\n",
        "\n",
        "scale = layers.experimental.preprocessing.Rescaling(1./255, name='base_1')(inp)\n",
        "\n",
        "cov_ = Conv2D(filters=16, kernel_size=(5, 5),  activation=\"relu\", name='base_2')(scale)\n",
        "cov_ = MaxPool2D(pool_size=(2, 2), name='base_3')(cov_)\n",
        "\n",
        "cov_ = Conv2D(filters=32, kernel_size=(5, 5),  activation=\"relu\", name='base_4')(cov_)\n",
        "cov_ = MaxPool2D(pool_size=(2, 2), name='base_5')(cov_)\n",
        "\n",
        "cov_ = Conv2D(filters=64, kernel_size=(5, 5), activation=\"relu\", name='base_6')(cov_)\n",
        "cov_ = MaxPool2D(pool_size=(2, 2), name='base_7')(cov_)\n",
        "\n",
        "flatten = Flatten(name='base_8')(cov_)\n",
        "\n",
        "bbox = Dense(256, activation=\"relu\", name='bbox_1')(flatten)\n",
        "bbox = Dropout(0.3)(bbox)\n",
        "bbox = Dense(128, activation=\"relu\", name='bbox_2')(bbox)\n",
        "bbox = Dropout(0.3)(bbox)\n",
        "bbox = Dense(64, activation=\"relu\", name='bbox_3')(bbox)\n",
        "bbox = Dropout(0.3)(bbox)\n",
        "bbox = Dense(4, activation=\"sigmoid\", name=\"bbox_output\")(bbox)\n",
        "\n",
        "class_ = Dense(64, activation='relu')(flatten)\n",
        "class_ = Dropout(0.5)(class_)\n",
        "class_ = Dense(32, activation='relu')(class_)\n",
        "class_ = Dropout(0.3)(class_)\n",
        "class_ = Dense(1, activation='sigmoid', name='class_output')(class_)\n",
        "\n",
        "model = Model(inp, [class_, bbox])\n",
        "# model.summary()"
      ]
    },
    {
      "cell_type": "code",
      "execution_count": null,
      "metadata": {
        "id": "J-rklJM3q_AQ"
      },
      "outputs": [],
      "source": [
        "plot_model(model, show_shapes=True)"
      ]
    },
    {
      "cell_type": "markdown",
      "metadata": {
        "id": "_MIEbuQYqtJq"
      },
      "source": [
        "## Обучение"
      ]
    },
    {
      "cell_type": "code",
      "execution_count": null,
      "metadata": {
        "id": "xxf_krO1rE3i"
      },
      "outputs": [],
      "source": [
        "tf.keras.backend.clear_session()\n",
        "\n",
        "for layer in model.layers:\n",
        "    if layer.name.startswith('base_'):\n",
        "        layer.trainable = True\n",
        "        \n",
        "for layer in model.layers:\n",
        "    if layer.name.startswith('bbox_'):\n",
        "        layer.trainable = True\n",
        "\n",
        "model.compile(\n",
        "    \"adam\", \n",
        "    loss={\n",
        "        \n",
        "        'bbox_output': iou,\n",
        "        \"class_output\": 'binary_crossentropy',\n",
        "    }, \n",
        "    metrics=[\"accuracy\"]\n",
        ")\n",
        "\n",
        "early_stopping_monitor = EarlyStopping(\n",
        "    monitor='val_bbox_output_accuracy',\n",
        "    patience=10,\n",
        ")\n",
        "\n",
        "model.fit(\n",
        "    X_train, {\"class_output\": yl_train, 'bbox_output':y_train}, \n",
        "    epochs=100, batch_size=8, verbose=2, shuffle=True,\n",
        "    validation_data=(X_test, {\"class_output\": yl_test, 'bbox_output': y_test}) , callbacks=[early_stopping_monitor]\n",
        ")"
      ]
    },
    {
      "cell_type": "code",
      "execution_count": null,
      "metadata": {
        "id": "YJ8FSHI_0jNi"
      },
      "outputs": [],
      "source": [
        "predictions = model.predict(X_test)"
      ]
    },
    {
      "cell_type": "code",
      "execution_count": null,
      "metadata": {
        "id": "4QgXUTDf0k7v"
      },
      "outputs": [],
      "source": [
        "classes = predictions[0][:]\n",
        "\n",
        "bboxes = np.concatenate((\n",
        "    np.round(predictions[1][:,:2] * height), \n",
        "    np.round(predictions[1][:,2:] * width)\n",
        "), 1)\n",
        "\n",
        "for i in range(len(X_test[:5])):\n",
        "  img = X_test[i].reshape(X_train[i].shape[0:3])\n",
        "  img = cv2.cvtColor(img, cv2.COLOR_BGR2RGB)\n",
        "  img = img.astype('uint8')\n",
        "\n",
        "  img = cv2.rectangle(img.copy(), (bboxes[i][2],bboxes[i][0]), (bboxes[i][3],bboxes[i][1]), (255,0,0), 1)\n",
        "  \n",
        "  plt.imshow(img)\n",
        "  plt.show()"
      ]
    },
    {
      "cell_type": "markdown",
      "metadata": {
        "id": "ZIqu8Wphq8Q4"
      },
      "source": [
        "# 3. ИИ (Есть шарик или нету)"
      ]
    },
    {
      "cell_type": "markdown",
      "metadata": {
        "id": "L-25tZy5wkYR"
      },
      "source": [
        "## Сборка датасета"
      ]
    },
    {
      "cell_type": "code",
      "execution_count": null,
      "metadata": {
        "id": "nYYRjfrFBgyU"
      },
      "outputs": [],
      "source": [
        "no_balls = []\n",
        "no_balls_roi = []\n",
        "\n",
        "for img in glob.glob(\"/content/drive/MyDrive/dataset/no_balls/*.jpg\"):\n",
        "    img = cv2.imread(img)\n",
        "\n",
        "    if (np.round(img.shape[0] / img.shape[1],3) == np.round(4/3,3)):\n",
        "      resized = cv2.resize(img, (width,height), interpolation = cv2.INTER_AREA)\n",
        "      roi = [0,0,0,0]\n",
        "\n",
        "      no_balls.append(resized)\n",
        "      no_balls_roi.append(roi)\n",
        "\n",
        "      src = resized\n",
        "      for i in range(-1,2):\n",
        "        img_flip = cv2.flip(src, i)\n",
        "        no_balls.append(img_flip)\n",
        "        no_balls_roi.append(roi)\n",
        "\n",
        "print(len(no_balls))"
      ]
    },
    {
      "cell_type": "code",
      "execution_count": null,
      "metadata": {
        "id": "7vLqZkYDWXzP"
      },
      "outputs": [],
      "source": [
        "balls = balls + no_balls\n",
        "roi = balls_roi + no_balls_roi"
      ]
    },
    {
      "cell_type": "code",
      "execution_count": null,
      "metadata": {
        "id": "0SOBeUpwWl0e"
      },
      "outputs": [],
      "source": [
        "X = np.array(balls)\n",
        "y = np.array(roi)\n",
        "yl = np.concatenate((np.ones(len(balls) - len(no_balls)), np.zeros(len(no_balls))))"
      ]
    },
    {
      "cell_type": "code",
      "execution_count": null,
      "metadata": {
        "id": "il1d0SJLWl0f"
      },
      "outputs": [],
      "source": [
        "X_train, X_test, y_train, y_test, yl_train, yl_test = train_test_split(X, y, yl, test_size=0.2, random_state=42)"
      ]
    },
    {
      "cell_type": "code",
      "execution_count": null,
      "metadata": {
        "id": "KaCfZWSLWl0g"
      },
      "outputs": [],
      "source": [
        "y_test = np.concatenate((y_test[:,0:2] / height,y_test[:,2:] / width),1)\n",
        "y_train = np.concatenate((y_train[:,0:2] / height,y_train[:,2:] / width),1)"
      ]
    },
    {
      "cell_type": "markdown",
      "metadata": {
        "id": "uWOJ9bE9wovs"
      },
      "source": [
        "## Обучение"
      ]
    },
    {
      "cell_type": "code",
      "execution_count": null,
      "metadata": {
        "id": "zsmLwXZkWz0M"
      },
      "outputs": [],
      "source": [
        "for layer in model.layers:\n",
        "    if layer.name.startswith('base_'):\n",
        "        layer.trainable = False\n",
        "        \n",
        "for layer in model.layers:\n",
        "    if layer.name.startswith('bbox'):\n",
        "        layer.trainable = False"
      ]
    },
    {
      "cell_type": "code",
      "execution_count": null,
      "metadata": {
        "id": "cBi2dLvKhXTt"
      },
      "outputs": [],
      "source": [
        "for layer in model.layers:\n",
        "  if layer.trainable == True:\n",
        "    print(layer.name)"
      ]
    },
    {
      "cell_type": "code",
      "execution_count": null,
      "metadata": {
        "id": "HUt6ClJBWwf7"
      },
      "outputs": [],
      "source": [
        "tf.keras.backend.clear_session()\n",
        "\n",
        "\n",
        "model.compile(\n",
        "    \"adam\", \n",
        "    loss={\n",
        "        \n",
        "        'bbox_output': \"mse\",\n",
        "        \"class_output\": 'binary_crossentropy',\n",
        "    }, \n",
        "    metrics=[\"accuracy\"]\n",
        ")\n",
        "\n",
        "early_stopping_monitor = EarlyStopping(\n",
        "    monitor='val_class_output_accuracy',\n",
        "    patience=20,\n",
        ")\n",
        "\n",
        "model.fit(\n",
        "    X_train, {\"class_output\": yl_train, 'bbox_output':y_train}, \n",
        "    epochs=100, batch_size=8, verbose=2, shuffle=True,\n",
        "    validation_data=(X_test, {\"class_output\": yl_test, 'bbox_output': y_test}), callbacks=[early_stopping_monitor]\n",
        ")"
      ]
    },
    {
      "cell_type": "markdown",
      "metadata": {
        "id": "3k5GP1YsSPhu"
      },
      "source": [
        "## Проверка"
      ]
    },
    {
      "cell_type": "code",
      "execution_count": null,
      "metadata": {
        "id": "6RLXAQuFYKEW"
      },
      "outputs": [],
      "source": [
        "predictions = model.predict(X_test)\n",
        "print(type(X_test[0][0][0][0]))"
      ]
    },
    {
      "cell_type": "code",
      "execution_count": null,
      "metadata": {
        "id": "KKLfMww-YKEX"
      },
      "outputs": [],
      "source": [
        "classes = predictions[0][:]\n",
        "bboxes = np.concatenate((np.round(predictions[1][:,:2] * height), np.round(predictions[1][:,2:] * width)),1)\n",
        "\n",
        "\n",
        "for i in range(len(X_test[:50])):\n",
        "  print(bboxes[i])\n",
        "  print(np.concatenate((np.round(y_test[i][:2] * height), np.round(y_test[i][2:] * width))))\n",
        "  print(classes[i])\n",
        "\n",
        "  img = X_test[i].reshape(X_train[i].shape[0:3])\n",
        "  img = cv2.cvtColor(img, cv2.COLOR_BGR2RGB)\n",
        "  img = img.astype('uint8')\n",
        "\n",
        "  if classes[i][0] > 0.5:\n",
        "    img = cv2.rectangle(img.copy(), (bboxes[i][2],bboxes[i][0]), (bboxes[i][3],bboxes[i][1]), (255,0,0), 1)\n",
        "  \n",
        "  plt.imshow(img)\n",
        "  plt.show()"
      ]
    },
    {
      "cell_type": "markdown",
      "metadata": {
        "id": "WHvdCxaDSFmw"
      },
      "source": [
        "# 4. Сохранение обученной модели на Google Drive"
      ]
    },
    {
      "cell_type": "code",
      "execution_count": null,
      "metadata": {
        "id": "hYAB5SXH-sWN"
      },
      "outputs": [],
      "source": [
        "model.save('saved_model/ball_bbox_classifier')"
      ]
    },
    {
      "cell_type": "code",
      "execution_count": null,
      "metadata": {
        "id": "KpS5rH1n-1sv"
      },
      "outputs": [],
      "source": [
        "!rm -r ./drive/MyDrive/ball_bbox_classifier\n",
        "!mkdir ./drive/MyDrive/ball_bbox_classifier\n",
        "!cp -r ./saved_model/ball_bbox_classifier ./drive/MyDrive/ball_bbox_classifier"
      ]
    }
  ],
  "metadata": {
    "accelerator": "GPU",
    "colab": {
      "collapsed_sections": [
        "P86PpYTOriZU",
        "mcG4eKPZr9vy",
        "jpZxEmTjssmA",
        "GS9vlYvguyZu",
        "UTzHPq4EUmf7",
        "ZIqu8Wphq8Q4",
        "L-25tZy5wkYR",
        "uWOJ9bE9wovs",
        "3k5GP1YsSPhu",
        "WHvdCxaDSFmw"
      ],
      "name": "ИИ шариков v.3.0.0 (Калинка Георгий)",
      "provenance": []
    },
    "kernelspec": {
      "display_name": "Python 3",
      "name": "python3"
    },
    "language_info": {
      "name": "python"
    }
  },
  "nbformat": 4,
  "nbformat_minor": 0
}
